{
 "cells": [
  {
   "cell_type": "markdown",
   "metadata": {},
   "source": [
    "Some of the code in this lab was copied from the solution at https://github.com/learn-co-curriculum/dsc-yelp-api-lab/tree/solution"
   ]
  },
  {
   "cell_type": "markdown",
   "metadata": {},
   "source": [
    "# Yelp API - Lab\n",
    "\n",
    "\n",
    "## Introduction \n",
    "\n",
    "Now that we've seen how the Yelp API works and some basic Folium visualizations, it's time to put those skills to work in order to create a working map! Taking things a step further, you'll also independently explore how to perform pagination in order to retrieve a full results set from the Yelp API!\n",
    "\n",
    "## Objectives\n",
    "\n",
    "You will be able to: \n",
    "* Create HTTP requests to get data from Yelp API\n",
    "* Parse HTTP responses and perform data analysis on the data returned\n",
    "* Perform pagination to retrieve troves of data!\n",
    "* Create a simple geographical system on to view information about selected businesses, at a given location. \n",
    "\n",
    "## Problem Introduction\n",
    "\n",
    "You've now worked with some API calls, but we have yet to see how to retrieve a more complete dataset in a programmatic manner. Returning to the Yelp API, the [documentation](https://www.yelp.com/developers/documentation/v3/business_search) also provides us details regarding the API limits. These often include details about the number of requests a user is allowed to make within a specified time limit and the maximum number of results to be returned. In this case, we are told that any request has a maximum of 50 results per request and defaults to 20. Furthermore, any search will be limited to a total of 1000 results. To retrieve all 1000 of these results, we would have to page through the results piece by piece, retrieving 50 at a time. Processes such as these are often referred to as pagination.\n",
    "\n",
    "In this lab, you will define a search and then paginate over the results to retrieve all of the results. You'll then parse these responses as a DataFrame (for further exploration) and create a map using Folium to visualize the results geographically.\n",
    "\n",
    "## Part I - Make the Initial Request\n",
    "\n",
    "Start by making an initial request to the Yelp API. Your search must include at least 2 parameters: **term** and **location**. For example, you might search for pizza restaurants in NYC. The term and location is up to you, but make the request below."
   ]
  },
  {
   "cell_type": "code",
   "execution_count": 1,
   "metadata": {},
   "outputs": [],
   "source": [
    "import requests\n",
    "import json\n",
    "import pandas as pd"
   ]
  },
  {
   "cell_type": "code",
   "execution_count": 2,
   "metadata": {},
   "outputs": [],
   "source": [
    "def get_keys(path):\n",
    "    with open(path) as f:\n",
    "        return json.load(f)"
   ]
  },
  {
   "cell_type": "code",
   "execution_count": 3,
   "metadata": {},
   "outputs": [
    {
     "name": "stdout",
     "output_type": "stream",
     "text": [
      "True\n",
      "<class 'dict'>\n",
      "dict_keys(['businesses', 'total', 'region'])\n",
      "835\n",
      "<class 'list'>\n"
     ]
    },
    {
     "data": {
      "text/html": [
       "<div>\n",
       "<style scoped>\n",
       "    .dataframe tbody tr th:only-of-type {\n",
       "        vertical-align: middle;\n",
       "    }\n",
       "\n",
       "    .dataframe tbody tr th {\n",
       "        vertical-align: top;\n",
       "    }\n",
       "\n",
       "    .dataframe thead th {\n",
       "        text-align: right;\n",
       "    }\n",
       "</style>\n",
       "<table border=\"1\" class=\"dataframe\">\n",
       "  <thead>\n",
       "    <tr style=\"text-align: right;\">\n",
       "      <th></th>\n",
       "      <th>alias</th>\n",
       "      <th>categories</th>\n",
       "      <th>coordinates</th>\n",
       "      <th>display_phone</th>\n",
       "      <th>distance</th>\n",
       "      <th>id</th>\n",
       "      <th>image_url</th>\n",
       "      <th>is_closed</th>\n",
       "      <th>location</th>\n",
       "      <th>name</th>\n",
       "      <th>phone</th>\n",
       "      <th>price</th>\n",
       "      <th>rating</th>\n",
       "      <th>review_count</th>\n",
       "      <th>transactions</th>\n",
       "      <th>url</th>\n",
       "    </tr>\n",
       "  </thead>\n",
       "  <tbody>\n",
       "    <tr>\n",
       "      <th>0</th>\n",
       "      <td>windy-city-pizza-virginia-beach-2</td>\n",
       "      <td>[{'alias': 'pizza', 'title': 'Pizza'}]</td>\n",
       "      <td>{'latitude': 36.78242, 'longitude': -75.99931}</td>\n",
       "      <td>(757) 689-2270</td>\n",
       "      <td>9878.459243</td>\n",
       "      <td>RrIpioVRlhwM5xXpr0f5PQ</td>\n",
       "      <td>https://s3-media2.fl.yelpcdn.com/bphoto/AgacKj...</td>\n",
       "      <td>False</td>\n",
       "      <td>{'address1': '1630 General Booth Blvd', 'addre...</td>\n",
       "      <td>Windy City Pizza</td>\n",
       "      <td>+17576892270</td>\n",
       "      <td>$$</td>\n",
       "      <td>4.5</td>\n",
       "      <td>295</td>\n",
       "      <td>[]</td>\n",
       "      <td>https://www.yelp.com/biz/windy-city-pizza-virg...</td>\n",
       "    </tr>\n",
       "    <tr>\n",
       "      <th>1</th>\n",
       "      <td>sals-ny-slice-pizzeria-virginia-beach-2</td>\n",
       "      <td>[{'alias': 'pizza', 'title': 'Pizza'}, {'alias...</td>\n",
       "      <td>{'latitude': 36.811858, 'longitude': -76.138496}</td>\n",
       "      <td>(757) 467-2000</td>\n",
       "      <td>5011.824125</td>\n",
       "      <td>O6H8k2cHi05ODPlqVdSjuQ</td>\n",
       "      <td>https://s3-media1.fl.yelpcdn.com/bphoto/I66Vl-...</td>\n",
       "      <td>False</td>\n",
       "      <td>{'address1': '4676 Princess Anne Rd', 'address...</td>\n",
       "      <td>Sal's NY Slice Pizzeria</td>\n",
       "      <td>+17574672000</td>\n",
       "      <td>$$</td>\n",
       "      <td>4.5</td>\n",
       "      <td>75</td>\n",
       "      <td>[delivery, pickup]</td>\n",
       "      <td>https://www.yelp.com/biz/sals-ny-slice-pizzeri...</td>\n",
       "    </tr>\n",
       "    <tr>\n",
       "      <th>2</th>\n",
       "      <td>salvatores-pizzeria-and-italian-ristorante-vir...</td>\n",
       "      <td>[{'alias': 'pizza', 'title': 'Pizza'}, {'alias...</td>\n",
       "      <td>{'latitude': 36.822452034163, 'longitude': -76...</td>\n",
       "      <td>(757) 497-7500</td>\n",
       "      <td>5469.316416</td>\n",
       "      <td>s52-qI44m03B_HI3CBhbRw</td>\n",
       "      <td>https://s3-media3.fl.yelpcdn.com/bphoto/EyIEr_...</td>\n",
       "      <td>False</td>\n",
       "      <td>{'address1': '4876 Princess Anne Rd', 'address...</td>\n",
       "      <td>Salvatore's Pizzeria and Italian Ristorante</td>\n",
       "      <td>+17574977500</td>\n",
       "      <td>$$</td>\n",
       "      <td>4.0</td>\n",
       "      <td>436</td>\n",
       "      <td>[delivery, pickup]</td>\n",
       "      <td>https://www.yelp.com/biz/salvatores-pizzeria-a...</td>\n",
       "    </tr>\n",
       "    <tr>\n",
       "      <th>3</th>\n",
       "      <td>brothers-pizza-virginia-beach-2</td>\n",
       "      <td>[{'alias': 'pizza', 'title': 'Pizza'}, {'alias...</td>\n",
       "      <td>{'latitude': 36.84567, 'longitude': -76.04913}</td>\n",
       "      <td>(757) 340-1277</td>\n",
       "      <td>3808.243514</td>\n",
       "      <td>j50Q7GnSt0l5sd7rgaILpQ</td>\n",
       "      <td>https://s3-media3.fl.yelpcdn.com/bphoto/xqTeDl...</td>\n",
       "      <td>False</td>\n",
       "      <td>{'address1': '401 N Great Neck Rd', 'address2'...</td>\n",
       "      <td>Brothers Pizza</td>\n",
       "      <td>+17573401277</td>\n",
       "      <td>$$</td>\n",
       "      <td>3.5</td>\n",
       "      <td>266</td>\n",
       "      <td>[]</td>\n",
       "      <td>https://www.yelp.com/biz/brothers-pizza-virgin...</td>\n",
       "    </tr>\n",
       "    <tr>\n",
       "      <th>4</th>\n",
       "      <td>ginos-pizzeria-by-maurizio-virginia-beach</td>\n",
       "      <td>[{'alias': 'pizza', 'title': 'Pizza'}, {'alias...</td>\n",
       "      <td>{'latitude': 36.7898845533172, 'longitude': -7...</td>\n",
       "      <td>(757) 437-0189</td>\n",
       "      <td>9592.614228</td>\n",
       "      <td>0EFA-1PC7WCxoG6yYHvFVA</td>\n",
       "      <td>https://s3-media2.fl.yelpcdn.com/bphoto/5onLFN...</td>\n",
       "      <td>False</td>\n",
       "      <td>{'address1': '1479 General Booth Blvd', 'addre...</td>\n",
       "      <td>Gino's Pizzeria by Maurizio</td>\n",
       "      <td>+17574370189</td>\n",
       "      <td>$$</td>\n",
       "      <td>4.0</td>\n",
       "      <td>187</td>\n",
       "      <td>[]</td>\n",
       "      <td>https://www.yelp.com/biz/ginos-pizzeria-by-mau...</td>\n",
       "    </tr>\n",
       "  </tbody>\n",
       "</table>\n",
       "</div>"
      ],
      "text/plain": [
       "                                               alias  \\\n",
       "0                  windy-city-pizza-virginia-beach-2   \n",
       "1            sals-ny-slice-pizzeria-virginia-beach-2   \n",
       "2  salvatores-pizzeria-and-italian-ristorante-vir...   \n",
       "3                    brothers-pizza-virginia-beach-2   \n",
       "4          ginos-pizzeria-by-maurizio-virginia-beach   \n",
       "\n",
       "                                          categories  \\\n",
       "0             [{'alias': 'pizza', 'title': 'Pizza'}]   \n",
       "1  [{'alias': 'pizza', 'title': 'Pizza'}, {'alias...   \n",
       "2  [{'alias': 'pizza', 'title': 'Pizza'}, {'alias...   \n",
       "3  [{'alias': 'pizza', 'title': 'Pizza'}, {'alias...   \n",
       "4  [{'alias': 'pizza', 'title': 'Pizza'}, {'alias...   \n",
       "\n",
       "                                         coordinates   display_phone  \\\n",
       "0     {'latitude': 36.78242, 'longitude': -75.99931}  (757) 689-2270   \n",
       "1   {'latitude': 36.811858, 'longitude': -76.138496}  (757) 467-2000   \n",
       "2  {'latitude': 36.822452034163, 'longitude': -76...  (757) 497-7500   \n",
       "3     {'latitude': 36.84567, 'longitude': -76.04913}  (757) 340-1277   \n",
       "4  {'latitude': 36.7898845533172, 'longitude': -7...  (757) 437-0189   \n",
       "\n",
       "      distance                      id  \\\n",
       "0  9878.459243  RrIpioVRlhwM5xXpr0f5PQ   \n",
       "1  5011.824125  O6H8k2cHi05ODPlqVdSjuQ   \n",
       "2  5469.316416  s52-qI44m03B_HI3CBhbRw   \n",
       "3  3808.243514  j50Q7GnSt0l5sd7rgaILpQ   \n",
       "4  9592.614228  0EFA-1PC7WCxoG6yYHvFVA   \n",
       "\n",
       "                                           image_url  is_closed  \\\n",
       "0  https://s3-media2.fl.yelpcdn.com/bphoto/AgacKj...      False   \n",
       "1  https://s3-media1.fl.yelpcdn.com/bphoto/I66Vl-...      False   \n",
       "2  https://s3-media3.fl.yelpcdn.com/bphoto/EyIEr_...      False   \n",
       "3  https://s3-media3.fl.yelpcdn.com/bphoto/xqTeDl...      False   \n",
       "4  https://s3-media2.fl.yelpcdn.com/bphoto/5onLFN...      False   \n",
       "\n",
       "                                            location  \\\n",
       "0  {'address1': '1630 General Booth Blvd', 'addre...   \n",
       "1  {'address1': '4676 Princess Anne Rd', 'address...   \n",
       "2  {'address1': '4876 Princess Anne Rd', 'address...   \n",
       "3  {'address1': '401 N Great Neck Rd', 'address2'...   \n",
       "4  {'address1': '1479 General Booth Blvd', 'addre...   \n",
       "\n",
       "                                          name         phone price  rating  \\\n",
       "0                             Windy City Pizza  +17576892270    $$     4.5   \n",
       "1                      Sal's NY Slice Pizzeria  +17574672000    $$     4.5   \n",
       "2  Salvatore's Pizzeria and Italian Ristorante  +17574977500    $$     4.0   \n",
       "3                               Brothers Pizza  +17573401277    $$     3.5   \n",
       "4                  Gino's Pizzeria by Maurizio  +17574370189    $$     4.0   \n",
       "\n",
       "   review_count        transactions  \\\n",
       "0           295                  []   \n",
       "1            75  [delivery, pickup]   \n",
       "2           436  [delivery, pickup]   \n",
       "3           266                  []   \n",
       "4           187                  []   \n",
       "\n",
       "                                                 url  \n",
       "0  https://www.yelp.com/biz/windy-city-pizza-virg...  \n",
       "1  https://www.yelp.com/biz/sals-ny-slice-pizzeri...  \n",
       "2  https://www.yelp.com/biz/salvatores-pizzeria-a...  \n",
       "3  https://www.yelp.com/biz/brothers-pizza-virgin...  \n",
       "4  https://www.yelp.com/biz/ginos-pizzeria-by-mau...  "
      ]
     },
     "execution_count": 3,
     "metadata": {},
     "output_type": "execute_result"
    }
   ],
   "source": [
    "api_key = get_keys('/Users/zasz/.secret/yelp_api.json')['api_key']\n",
    "\n",
    "url = 'https://api.yelp.com/v3/businesses/search'\n",
    "\n",
    "header = {\"Authorization\" : \"Bearer {}\".format(api_key)}\n",
    "\n",
    "params = {\"term\" : \"pizza\", \"location\" : \"Virginia Beach\"}\n",
    "\n",
    "r = requests.get(url = url, headers = header, params = params)\n",
    "\n",
    "print(r.status_code == requests.codes.ok)\n",
    "\n",
    "response = r.json()\n",
    "\n",
    "print(type(response))\n",
    "print(response.keys())\n",
    "print(response['total'])\n",
    "print(type(response['businesses']))\n",
    "\n",
    "df = pd.DataFrame(response['businesses'])\n",
    "df.head()"
   ]
  },
  {
   "cell_type": "markdown",
   "metadata": {},
   "source": [
    "## Pagination\n",
    "\n",
    "Now that you have an initial response, you can examine the contents of the json container. For example, you might start with ```response.json().keys()```. Here, you'll see a key for `'total'`, which tells you the full number of matching results given your query parameters. Write a loop (or ideally a function) which then makes successive API calls using the offset parameter to retrieve all of the results (or 5000 for a particularly large result set) for the original query. As you do this, be mindful of how you store the data. Your final goal will be to reformat the data concerning the businesses themselves into a pandas DataFrame from the json objects.\n",
    "\n",
    "**Note: be mindful of the API rate limits. You can only make 5000 requests per day, and are also can make requests too fast. Start prototyping small before running a loop that could be faulty. You can also use time.sleep(n) to add delays. For more details see https://www.yelp.com/developers/documentation/v3/rate_limiting.**"
   ]
  },
  {
   "cell_type": "code",
   "execution_count": 4,
   "metadata": {},
   "outputs": [],
   "source": [
    "import time"
   ]
  },
  {
   "cell_type": "code",
   "execution_count": 5,
   "metadata": {},
   "outputs": [],
   "source": [
    "# Your code here; use a function or loop to retrieve all the results from your original request\n",
    "def pagination():\n",
    "    \n",
    "    api_key = get_keys('/Users/zasz/.secret/yelp_api.json')['api_key']\n",
    "    url = 'https://api.yelp.com/v3/businesses/search'\n",
    "    header = {\"Authorization\" : \"Bearer {}\".format(api_key)}\n",
    "    params = {\"term\" : \"pizza\", \"location\" : \"Virginia Beach\"}\n",
    "    \n",
    "    # Initial Request to find total\n",
    "    r = requests.get(url = url, headers = header, params = params)\n",
    "    print(r.status_code == requests.codes.ok)\n",
    "    response = r.json()\n",
    "    total = response['total']\n",
    "    print(total)\n",
    "    \n",
    "    # Make a list to store data\n",
    "    businesses_gathered = []\n",
    "    \n",
    "    # The limit of businesses per a request is 50\n",
    "    limit = 50\n",
    "    \n",
    "    # Request over and over until len(businesses_gathered) = Total\n",
    "    # Each time adding businesses to the list business_gathered\n",
    "    while len(businesses_gathered) < total:\n",
    "        \n",
    "        # pull 50 business each time unless there are less than 50 left\n",
    "        difference = total - len(businesses_gathered)\n",
    "        if difference > limit:\n",
    "            params.update({'limit' : limit})\n",
    "        else:\n",
    "            params.update({'limit' : difference})\n",
    "            \n",
    "        # offset by len(businesses_gathered)\n",
    "        offset = len(businesses_gathered)\n",
    "        params.update({'offset' : offset})\n",
    "        \n",
    "        # Start requesting\n",
    "        r = requests.get(url = url, headers = header, params = params)\n",
    "        print(r.status_code == requests.codes.ok)\n",
    "        response = r.json()\n",
    "        \n",
    "        # take businesses and add them to list business_gathered\n",
    "        for business in response['businesses']:\n",
    "            businesses_gathered.append(business)\n",
    "    \n",
    "        # make time between each request\n",
    "        time.sleep(5)\n",
    "        \n",
    "    # Create dataframe from data\n",
    "    df = pd.DataFrame(businesses_gathered)\n",
    "    \n",
    "    # return dataframe\n",
    "    return df"
   ]
  },
  {
   "cell_type": "code",
   "execution_count": 6,
   "metadata": {
    "scrolled": true
   },
   "outputs": [
    {
     "name": "stdout",
     "output_type": "stream",
     "text": [
      "True\n",
      "835\n",
      "True\n",
      "True\n",
      "True\n",
      "True\n",
      "True\n",
      "True\n",
      "True\n",
      "True\n",
      "True\n",
      "True\n",
      "True\n",
      "True\n",
      "True\n",
      "True\n",
      "True\n",
      "True\n",
      "True\n"
     ]
    }
   ],
   "source": [
    "df = pagination()"
   ]
  },
  {
   "cell_type": "code",
   "execution_count": 7,
   "metadata": {
    "scrolled": true
   },
   "outputs": [
    {
     "data": {
      "text/html": [
       "<div>\n",
       "<style scoped>\n",
       "    .dataframe tbody tr th:only-of-type {\n",
       "        vertical-align: middle;\n",
       "    }\n",
       "\n",
       "    .dataframe tbody tr th {\n",
       "        vertical-align: top;\n",
       "    }\n",
       "\n",
       "    .dataframe thead th {\n",
       "        text-align: right;\n",
       "    }\n",
       "</style>\n",
       "<table border=\"1\" class=\"dataframe\">\n",
       "  <thead>\n",
       "    <tr style=\"text-align: right;\">\n",
       "      <th></th>\n",
       "      <th>alias</th>\n",
       "      <th>categories</th>\n",
       "      <th>coordinates</th>\n",
       "      <th>display_phone</th>\n",
       "      <th>distance</th>\n",
       "      <th>id</th>\n",
       "      <th>image_url</th>\n",
       "      <th>is_closed</th>\n",
       "      <th>location</th>\n",
       "      <th>name</th>\n",
       "      <th>phone</th>\n",
       "      <th>price</th>\n",
       "      <th>rating</th>\n",
       "      <th>review_count</th>\n",
       "      <th>transactions</th>\n",
       "      <th>url</th>\n",
       "    </tr>\n",
       "  </thead>\n",
       "  <tbody>\n",
       "    <tr>\n",
       "      <th>0</th>\n",
       "      <td>windy-city-pizza-virginia-beach-2</td>\n",
       "      <td>[{'alias': 'pizza', 'title': 'Pizza'}]</td>\n",
       "      <td>{'latitude': 36.78242, 'longitude': -75.99931}</td>\n",
       "      <td>(757) 689-2270</td>\n",
       "      <td>9878.459243</td>\n",
       "      <td>RrIpioVRlhwM5xXpr0f5PQ</td>\n",
       "      <td>https://s3-media2.fl.yelpcdn.com/bphoto/AgacKj...</td>\n",
       "      <td>False</td>\n",
       "      <td>{'address1': '1630 General Booth Blvd', 'addre...</td>\n",
       "      <td>Windy City Pizza</td>\n",
       "      <td>+17576892270</td>\n",
       "      <td>$$</td>\n",
       "      <td>4.5</td>\n",
       "      <td>295</td>\n",
       "      <td>[]</td>\n",
       "      <td>https://www.yelp.com/biz/windy-city-pizza-virg...</td>\n",
       "    </tr>\n",
       "    <tr>\n",
       "      <th>1</th>\n",
       "      <td>sals-ny-slice-pizzeria-virginia-beach-2</td>\n",
       "      <td>[{'alias': 'pizza', 'title': 'Pizza'}, {'alias...</td>\n",
       "      <td>{'latitude': 36.811858, 'longitude': -76.138496}</td>\n",
       "      <td>(757) 467-2000</td>\n",
       "      <td>5011.824125</td>\n",
       "      <td>O6H8k2cHi05ODPlqVdSjuQ</td>\n",
       "      <td>https://s3-media1.fl.yelpcdn.com/bphoto/I66Vl-...</td>\n",
       "      <td>False</td>\n",
       "      <td>{'address1': '4676 Princess Anne Rd', 'address...</td>\n",
       "      <td>Sal's NY Slice Pizzeria</td>\n",
       "      <td>+17574672000</td>\n",
       "      <td>$$</td>\n",
       "      <td>4.5</td>\n",
       "      <td>75</td>\n",
       "      <td>[pickup, delivery]</td>\n",
       "      <td>https://www.yelp.com/biz/sals-ny-slice-pizzeri...</td>\n",
       "    </tr>\n",
       "    <tr>\n",
       "      <th>2</th>\n",
       "      <td>salvatores-pizzeria-and-italian-ristorante-vir...</td>\n",
       "      <td>[{'alias': 'pizza', 'title': 'Pizza'}, {'alias...</td>\n",
       "      <td>{'latitude': 36.822452034163, 'longitude': -76...</td>\n",
       "      <td>(757) 497-7500</td>\n",
       "      <td>5469.316416</td>\n",
       "      <td>s52-qI44m03B_HI3CBhbRw</td>\n",
       "      <td>https://s3-media3.fl.yelpcdn.com/bphoto/EyIEr_...</td>\n",
       "      <td>False</td>\n",
       "      <td>{'address1': '4876 Princess Anne Rd', 'address...</td>\n",
       "      <td>Salvatore's Pizzeria and Italian Ristorante</td>\n",
       "      <td>+17574977500</td>\n",
       "      <td>$$</td>\n",
       "      <td>4.0</td>\n",
       "      <td>436</td>\n",
       "      <td>[pickup, delivery]</td>\n",
       "      <td>https://www.yelp.com/biz/salvatores-pizzeria-a...</td>\n",
       "    </tr>\n",
       "    <tr>\n",
       "      <th>3</th>\n",
       "      <td>brothers-pizza-virginia-beach-2</td>\n",
       "      <td>[{'alias': 'pizza', 'title': 'Pizza'}, {'alias...</td>\n",
       "      <td>{'latitude': 36.84567, 'longitude': -76.04913}</td>\n",
       "      <td>(757) 340-1277</td>\n",
       "      <td>3808.243514</td>\n",
       "      <td>j50Q7GnSt0l5sd7rgaILpQ</td>\n",
       "      <td>https://s3-media3.fl.yelpcdn.com/bphoto/xqTeDl...</td>\n",
       "      <td>False</td>\n",
       "      <td>{'address1': '401 N Great Neck Rd', 'address2'...</td>\n",
       "      <td>Brothers Pizza</td>\n",
       "      <td>+17573401277</td>\n",
       "      <td>$$</td>\n",
       "      <td>3.5</td>\n",
       "      <td>266</td>\n",
       "      <td>[]</td>\n",
       "      <td>https://www.yelp.com/biz/brothers-pizza-virgin...</td>\n",
       "    </tr>\n",
       "    <tr>\n",
       "      <th>4</th>\n",
       "      <td>ginos-pizzeria-by-maurizio-virginia-beach</td>\n",
       "      <td>[{'alias': 'pizza', 'title': 'Pizza'}, {'alias...</td>\n",
       "      <td>{'latitude': 36.7898845533172, 'longitude': -7...</td>\n",
       "      <td>(757) 437-0189</td>\n",
       "      <td>9592.614228</td>\n",
       "      <td>0EFA-1PC7WCxoG6yYHvFVA</td>\n",
       "      <td>https://s3-media2.fl.yelpcdn.com/bphoto/5onLFN...</td>\n",
       "      <td>False</td>\n",
       "      <td>{'address1': '1479 General Booth Blvd', 'addre...</td>\n",
       "      <td>Gino's Pizzeria by Maurizio</td>\n",
       "      <td>+17574370189</td>\n",
       "      <td>$$</td>\n",
       "      <td>4.0</td>\n",
       "      <td>187</td>\n",
       "      <td>[]</td>\n",
       "      <td>https://www.yelp.com/biz/ginos-pizzeria-by-mau...</td>\n",
       "    </tr>\n",
       "  </tbody>\n",
       "</table>\n",
       "</div>"
      ],
      "text/plain": [
       "                                               alias  \\\n",
       "0                  windy-city-pizza-virginia-beach-2   \n",
       "1            sals-ny-slice-pizzeria-virginia-beach-2   \n",
       "2  salvatores-pizzeria-and-italian-ristorante-vir...   \n",
       "3                    brothers-pizza-virginia-beach-2   \n",
       "4          ginos-pizzeria-by-maurizio-virginia-beach   \n",
       "\n",
       "                                          categories  \\\n",
       "0             [{'alias': 'pizza', 'title': 'Pizza'}]   \n",
       "1  [{'alias': 'pizza', 'title': 'Pizza'}, {'alias...   \n",
       "2  [{'alias': 'pizza', 'title': 'Pizza'}, {'alias...   \n",
       "3  [{'alias': 'pizza', 'title': 'Pizza'}, {'alias...   \n",
       "4  [{'alias': 'pizza', 'title': 'Pizza'}, {'alias...   \n",
       "\n",
       "                                         coordinates   display_phone  \\\n",
       "0     {'latitude': 36.78242, 'longitude': -75.99931}  (757) 689-2270   \n",
       "1   {'latitude': 36.811858, 'longitude': -76.138496}  (757) 467-2000   \n",
       "2  {'latitude': 36.822452034163, 'longitude': -76...  (757) 497-7500   \n",
       "3     {'latitude': 36.84567, 'longitude': -76.04913}  (757) 340-1277   \n",
       "4  {'latitude': 36.7898845533172, 'longitude': -7...  (757) 437-0189   \n",
       "\n",
       "      distance                      id  \\\n",
       "0  9878.459243  RrIpioVRlhwM5xXpr0f5PQ   \n",
       "1  5011.824125  O6H8k2cHi05ODPlqVdSjuQ   \n",
       "2  5469.316416  s52-qI44m03B_HI3CBhbRw   \n",
       "3  3808.243514  j50Q7GnSt0l5sd7rgaILpQ   \n",
       "4  9592.614228  0EFA-1PC7WCxoG6yYHvFVA   \n",
       "\n",
       "                                           image_url  is_closed  \\\n",
       "0  https://s3-media2.fl.yelpcdn.com/bphoto/AgacKj...      False   \n",
       "1  https://s3-media1.fl.yelpcdn.com/bphoto/I66Vl-...      False   \n",
       "2  https://s3-media3.fl.yelpcdn.com/bphoto/EyIEr_...      False   \n",
       "3  https://s3-media3.fl.yelpcdn.com/bphoto/xqTeDl...      False   \n",
       "4  https://s3-media2.fl.yelpcdn.com/bphoto/5onLFN...      False   \n",
       "\n",
       "                                            location  \\\n",
       "0  {'address1': '1630 General Booth Blvd', 'addre...   \n",
       "1  {'address1': '4676 Princess Anne Rd', 'address...   \n",
       "2  {'address1': '4876 Princess Anne Rd', 'address...   \n",
       "3  {'address1': '401 N Great Neck Rd', 'address2'...   \n",
       "4  {'address1': '1479 General Booth Blvd', 'addre...   \n",
       "\n",
       "                                          name         phone price  rating  \\\n",
       "0                             Windy City Pizza  +17576892270    $$     4.5   \n",
       "1                      Sal's NY Slice Pizzeria  +17574672000    $$     4.5   \n",
       "2  Salvatore's Pizzeria and Italian Ristorante  +17574977500    $$     4.0   \n",
       "3                               Brothers Pizza  +17573401277    $$     3.5   \n",
       "4                  Gino's Pizzeria by Maurizio  +17574370189    $$     4.0   \n",
       "\n",
       "   review_count        transactions  \\\n",
       "0           295                  []   \n",
       "1            75  [pickup, delivery]   \n",
       "2           436  [pickup, delivery]   \n",
       "3           266                  []   \n",
       "4           187                  []   \n",
       "\n",
       "                                                 url  \n",
       "0  https://www.yelp.com/biz/windy-city-pizza-virg...  \n",
       "1  https://www.yelp.com/biz/sals-ny-slice-pizzeri...  \n",
       "2  https://www.yelp.com/biz/salvatores-pizzeria-a...  \n",
       "3  https://www.yelp.com/biz/brothers-pizza-virgin...  \n",
       "4  https://www.yelp.com/biz/ginos-pizzeria-by-mau...  "
      ]
     },
     "execution_count": 7,
     "metadata": {},
     "output_type": "execute_result"
    }
   ],
   "source": [
    "df.head()"
   ]
  },
  {
   "cell_type": "code",
   "execution_count": 8,
   "metadata": {},
   "outputs": [
    {
     "data": {
      "text/plain": [
       "835"
      ]
     },
     "execution_count": 8,
     "metadata": {},
     "output_type": "execute_result"
    }
   ],
   "source": [
    "len(df)"
   ]
  },
  {
   "cell_type": "markdown",
   "metadata": {},
   "source": [
    "## Exploratory Analysis\n",
    "\n",
    "Take the restaurants from the previous question and do an initial exploratory analysis. At minimum, this should include looking at the distribution of features such as price, rating and number of reviews as well as the relations between these dimensions."
   ]
  },
  {
   "cell_type": "code",
   "execution_count": 9,
   "metadata": {},
   "outputs": [],
   "source": [
    "import numpy as np"
   ]
  },
  {
   "cell_type": "code",
   "execution_count": 10,
   "metadata": {
    "scrolled": true
   },
   "outputs": [
    {
     "data": {
      "text/plain": [
       "Index(['alias', 'categories', 'coordinates', 'display_phone', 'distance', 'id',\n",
       "       'image_url', 'is_closed', 'location', 'name', 'phone', 'price',\n",
       "       'rating', 'review_count', 'transactions', 'url'],\n",
       "      dtype='object')"
      ]
     },
     "execution_count": 10,
     "metadata": {},
     "output_type": "execute_result"
    }
   ],
   "source": [
    "df.columns"
   ]
  },
  {
   "cell_type": "code",
   "execution_count": 11,
   "metadata": {},
   "outputs": [],
   "source": [
    "df = df[['price', 'rating', 'review_count']]"
   ]
  },
  {
   "cell_type": "code",
   "execution_count": 12,
   "metadata": {},
   "outputs": [
    {
     "name": "stdout",
     "output_type": "stream",
     "text": [
      "<class 'str'>\n",
      "<class 'numpy.float64'>\n",
      "<class 'numpy.int64'>\n"
     ]
    }
   ],
   "source": [
    "for col in df.columns:\n",
    "    print(type(df[col][0]))"
   ]
  },
  {
   "cell_type": "code",
   "execution_count": 13,
   "metadata": {},
   "outputs": [
    {
     "data": {
      "text/plain": [
       "array(['$$', '$', nan, '$$$'], dtype=object)"
      ]
     },
     "execution_count": 13,
     "metadata": {},
     "output_type": "execute_result"
    }
   ],
   "source": [
    "df.price.unique()"
   ]
  },
  {
   "cell_type": "code",
   "execution_count": 14,
   "metadata": {},
   "outputs": [],
   "source": [
    "# Change price to int dtype\n",
    "df.price = df.price.replace('$', 1)\n",
    "df.price = df.price.replace('$$', 2)\n",
    "df.price = df.price.replace('$$$', 3)\n",
    "df = df[np.isfinite(df['price'])]\n",
    "df.price = df.price.astype(int)"
   ]
  },
  {
   "cell_type": "code",
   "execution_count": 15,
   "metadata": {},
   "outputs": [],
   "source": [
    "import matplotlib.pyplot as plt\n",
    "import seaborn as sns"
   ]
  },
  {
   "cell_type": "code",
   "execution_count": 16,
   "metadata": {},
   "outputs": [
    {
     "name": "stderr",
     "output_type": "stream",
     "text": [
      "C:\\Users\\zasz\\Anaconda3\\envs\\learn-env\\lib\\site-packages\\scipy\\stats\\stats.py:1713: FutureWarning: Using a non-tuple sequence for multidimensional indexing is deprecated; use `arr[tuple(seq)]` instead of `arr[seq]`. In the future this will be interpreted as an array index, `arr[np.array(seq)]`, which will result either in an error or a different result.\n",
      "  return np.add.reduce(sorted[indexer] * weights, axis=axis) / sumval\n"
     ]
    },
    {
     "data": {
      "image/png": "[encoded data removed]",
      "text/plain": [
       "<Figure size 432x288 with 1 Axes>"
      ]
     },
     "metadata": {
      "needs_background": "light"
     },
     "output_type": "display_data"
    },
    {
     "data": {
      "image/png": "[encoded data removed]",
      "text/plain": [
       "<Figure size 432x288 with 1 Axes>"
      ]
     },
     "metadata": {
      "needs_background": "light"
     },
     "output_type": "display_data"
    },
    {
     "data": {
      "image/png": "[encoded data removed]",
      "text/plain": [
       "<Figure size 432x288 with 1 Axes>"
      ]
     },
     "metadata": {
      "needs_background": "light"
     },
     "output_type": "display_data"
    }
   ],
   "source": [
    "# Plot distributions\n",
    "for col in df.columns:\n",
    "    sns.distplot(df[col])\n",
    "    plt.show()"
   ]
  },
  {
   "cell_type": "code",
   "execution_count": 17,
   "metadata": {},
   "outputs": [
    {
     "data": {
      "image/png": "[encoded data removed]",
      "text/plain": [
       "<Figure size 432x288 with 1 Axes>"
      ]
     },
     "metadata": {
      "needs_background": "light"
     },
     "output_type": "display_data"
    },
    {
     "data": {
      "image/png": "[encoded data removed]",
      "text/plain": [
       "<Figure size 432x288 with 1 Axes>"
      ]
     },
     "metadata": {
      "needs_background": "light"
     },
     "output_type": "display_data"
    },
    {
     "data": {
      "image/png": "[encoded data removed]",
      "text/plain": [
       "<Figure size 432x288 with 1 Axes>"
      ]
     },
     "metadata": {
      "needs_background": "light"
     },
     "output_type": "display_data"
    }
   ],
   "source": [
    "# plot relations\n",
    "plt.scatter(df['review_count'], df['price'])\n",
    "plt.xlabel('review_count')\n",
    "plt.ylabel('price')\n",
    "plt.title('review_count vs price')\n",
    "plt.show()\n",
    "plt.scatter(df['rating'], df['price'])\n",
    "plt.xlabel('rating')\n",
    "plt.ylabel('price')\n",
    "plt.title('rating vs price')\n",
    "plt.show()\n",
    "plt.scatter(df['rating'], df['review_count'])\n",
    "plt.xlabel('rating')\n",
    "plt.ylabel('review_count')\n",
    "plt.title('rating vs review_count')\n",
    "plt.show()"
   ]
  },
  {
   "cell_type": "markdown",
   "metadata": {},
   "source": [
    "## Mapping\n",
    "\n",
    "Look at the initial Yelp example and try and make a map using Folium of the restaurants you retrieved. Be sure to also add popups to the markers giving some basic information such as name, rating and price."
   ]
  },
  {
   "cell_type": "code",
   "execution_count": 18,
   "metadata": {},
   "outputs": [],
   "source": [
    "import folium"
   ]
  },
  {
   "cell_type": "code",
   "execution_count": 19,
   "metadata": {},
   "outputs": [
    {
     "data": {
      "text/plain": [
       "dict_keys(['businesses', 'total', 'region'])"
      ]
     },
     "execution_count": 19,
     "metadata": {},
     "output_type": "execute_result"
    }
   ],
   "source": [
    "response.keys()"
   ]
  },
  {
   "cell_type": "code",
   "execution_count": 20,
   "metadata": {},
   "outputs": [
    {
     "data": {
      "text/plain": [
       "{'center': {'longitude': -76.08993530273438, 'latitude': 36.83439143454004}}"
      ]
     },
     "execution_count": 20,
     "metadata": {},
     "output_type": "execute_result"
    }
   ],
   "source": [
    "response['region']"
   ]
  },
  {
   "cell_type": "code",
   "execution_count": 23,
   "metadata": {},
   "outputs": [],
   "source": [
    "lat = response['region']['center']['latitude']\n",
    "long = response['region']['center']['longitude']\n",
    "\n",
    "basemap = folium.Map([lat, long], zoom_start = 13)\n",
    "\n",
    "for business in response['businesses']:\n",
    "    lat = business['coordinates']['latitude']\n",
    "    long = business['coordinates']['longitude']\n",
    "    popup_text = business['name'] + ' ' + str(business['rating']) + str(business['price'])\n",
    "    popup = folium.Popup(popup_text)\n",
    "    marker = folium.Marker(location = [lat, long], popup = popup)\n",
    "    marker.add_to(basemap)\n",
    "    "
   ]
  },
  {
   "cell_type": "code",
   "execution_count": 22,
   "metadata": {
    "scrolled": true
   },
   "outputs": [
    {
     "data": {
      "text/html": [
       "<div style=\"width:100%;\"><div style=\"position:relative;width:100%;height:0;padding-bottom:60%;\"><iframe src=\"data:text/html;charset=utf-8;base64,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\" style=\"position:absolute;width:100%;height:100%;left:0;top:0;border:none !important;\" allowfullscreen webkitallowfullscreen mozallowfullscreen></iframe></div></div>"
      ],
      "text/plain": [
       "<folium.folium.Map at 0x16b8d92cac8>"
      ]
     },
     "execution_count": 22,
     "metadata": {},
     "output_type": "execute_result"
    }
   ],
   "source": [
    "basemap"
   ]
  },
  {
   "cell_type": "markdown",
   "metadata": {},
   "source": [
    "## Summary\n",
    "\n",
    "Nice work! In this lab, you synthesized your skills for the day, making multiple API calls to Yelp in order to paginate through a results set, performing some basic exploratory analysis and then creating a nice map visual to display the results! Well done!"
   ]
  }
 ],
 "metadata": {
  "kernelspec": {
   "display_name": "learn-env",
   "language": "python",
   "name": "learn-env"
  },
  "language_info": {
   "codemirror_mode": {
    "name": "ipython",
    "version": 3
   },
   "file_extension": ".py",
   "mimetype": "text/x-python",
   "name": "python",
   "nbconvert_exporter": "python",
   "pygments_lexer": "ipython3",
   "version": "3.6.6"
  }
 },
 "nbformat": 4,
 "nbformat_minor": 2
}
